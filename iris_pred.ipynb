{
 "cells": [
  {
   "cell_type": "code",
   "execution_count": 1,
   "id": "e315f9fc",
   "metadata": {},
   "outputs": [],
   "source": [
    "import joblib\n",
    "import pandas as pd"
   ]
  },
  {
   "cell_type": "code",
   "execution_count": 2,
   "id": "c6f19b22",
   "metadata": {},
   "outputs": [],
   "source": [
    "svm = joblib.load('models/svm.joblib')\n",
    "rf = joblib.load('models/RF.joblib')\n",
    "knn = joblib.load('models/knn.joblib')\n",
    "LR = joblib.load('models/LR.joblib')"
   ]
  },
  {
   "cell_type": "code",
   "execution_count": 3,
   "id": "4f0a422f",
   "metadata": {},
   "outputs": [
    {
     "name": "stdout",
     "output_type": "stream",
     "text": [
      "<class 'pandas.core.frame.DataFrame'>\n",
      "RangeIndex: 150 entries, 0 to 149\n",
      "Data columns (total 5 columns):\n",
      " #   Column        Non-Null Count  Dtype  \n",
      "---  ------        --------------  -----  \n",
      " 0   sepal.length  150 non-null    float64\n",
      " 1   sepal.width   150 non-null    float64\n",
      " 2   petal.length  150 non-null    float64\n",
      " 3   petal.width   150 non-null    float64\n",
      " 4   variety       150 non-null    object \n",
      "dtypes: float64(4), object(1)\n",
      "memory usage: 6.0+ KB\n",
      "None\n"
     ]
    }
   ],
   "source": [
    "df = pd.read_csv('iris.csv')\n",
    "print(df.info())"
   ]
  },
  {
   "cell_type": "code",
   "execution_count": 4,
   "id": "d3adfafe",
   "metadata": {},
   "outputs": [
    {
     "name": "stdout",
     "output_type": "stream",
     "text": [
      "['Setosa' 'Versicolor' 'Virginica']\n"
     ]
    }
   ],
   "source": [
    "print(df['variety'].unique())"
   ]
  },
  {
   "cell_type": "code",
   "execution_count": 5,
   "id": "62582386",
   "metadata": {},
   "outputs": [],
   "source": [
    "# c = {'Setosa':0, 'Versicolor':1, 'Virginica':2}\n",
    "# df['variety2'] = df['variety'].map(c)"
   ]
  },
  {
   "cell_type": "code",
   "execution_count": 6,
   "id": "878fbbdd",
   "metadata": {},
   "outputs": [
    {
     "name": "stdout",
     "output_type": "stream",
     "text": [
      "[0 0 0 1 1 1 1 1 1 1 1 1 1]\n",
      "[0 0 0 1 1 1 1 1 1 1 1 1 1]\n",
      "[0 0 0 1 1 1 1 1 1 1 1 1 1]\n",
      "[0 0 0 1 1 1 1 1 1 1 1 1 1]\n"
     ]
    }
   ],
   "source": [
    "print(knn.predict(df.iloc[47:60, 0:4].values))\n",
    "print(LR.predict(df.iloc[47:60, 0:4].values))\n",
    "print(rf.predict(df.iloc[47:60, 0:4].values))\n",
    "print(svm.predict(df.iloc[47:60, 0:4].values))"
   ]
  }
 ],
 "metadata": {
  "kernelspec": {
   "display_name": "base",
   "language": "python",
   "name": "python3"
  },
  "language_info": {
   "codemirror_mode": {
    "name": "ipython",
    "version": 3
   },
   "file_extension": ".py",
   "mimetype": "text/x-python",
   "name": "python",
   "nbconvert_exporter": "python",
   "pygments_lexer": "ipython3",
   "version": "3.12.7"
  }
 },
 "nbformat": 4,
 "nbformat_minor": 5
}
